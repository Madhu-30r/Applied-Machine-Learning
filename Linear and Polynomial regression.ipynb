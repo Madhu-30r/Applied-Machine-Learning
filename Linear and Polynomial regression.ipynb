{
 "cells": [
  {
   "cell_type": "markdown",
   "metadata": {},
   "source": [
    "# Assignment 1\n",
    "## Applied Machine Learning (BUAN 6341)\n",
    "\n",
    "### <font color='red'>Due Date: February 14, 2022 11:59pm</font> "
   ]
  },
  {
   "cell_type": "markdown",
   "metadata": {},
   "source": [
    "Deliverables:\n",
    "\n",
    "- Submit your answers to conceptual questions (described in another .pdf file) in a pdf file.\n",
    "- Write down your codes and discussions in the given cells described in this file.\n",
    "    - Cells for coding are denoted as \"YOUR CODE HERE\" \n",
    "    - Cells for discussions are denoted as \"YOUR DISCUSSIONS HERE\". Include \"#\" before each line of your discussions to comment out your wordings (i.e., not considered as code).\n",
    "    - If you need more cells to check temporary results, add a cell using the \"+\" button or shortcut \"esc + b\".\n",
    "- Submit two files: .pdf and .ipynb to eLearning.\n"
   ]
  },
  {
   "cell_type": "code",
   "execution_count": 1,
   "metadata": {},
   "outputs": [],
   "source": [
    "NAME = \"Naga Madhulatha Ramabhotla\""
   ]
  },
  {
   "cell_type": "markdown",
   "metadata": {},
   "source": [
    "### Meet the Data and the Setting\n",
    "\n",
    "##### Background  \n",
    "Bike sharing systems are new generation of traditional bike rentals where whole process from membership, rental and return back has become automatic. Currently, there are about over 500 bike-sharing programs around the world which is composed of over 500 thousands bicycles.\n",
    "\n",
    "##### The Dataset\n",
    "\n",
    "We will be using the daily version of the Capital Bikeshare System dataset from the UCI Machine Learning Repository. This data set contains information about the daily count of bike rental checkouts in Washington, D.C.’s bikeshare program between 2011 and 2012. It also includes information about the weather and seasonal/temporal features for that day (like whether it was a weekday).\n",
    "- **day:** Day of the record (relative to day 1:2011-01-01)\n",
    "- **season:** Season (1:spring, 2:summer, 3:fall, 4:winter)\n",
    "- **weekday:** Day of the week (0=Sunday, 6=Saturday)\n",
    "- **workingday:** If day is neither weekend nor holiday is 1, otherwise is 0.\n",
    "- **weathersit:**<br>\n",
    "    - 1: Clear, Few clouds, Partly cloudy, Partly cloudy\n",
    "    - 2: Mist + Cloudy, Mist + Broken clouds, Mist + Few clouds, Mist\n",
    "    - 3: Light Snow, Light Rain + Thunderstorm + Scattered clouds, Light Rain + Scattered\n",
    "clouds\n",
    "- **temp:** Normalized temperature in Celcius\n",
    "- **windspeed:** Normalized wind speed\n",
    "- **casual:** Count of checkouts by casual/non-registered users\n",
    "- **registered:** Count of checkouts by registered users\n",
    "- **cnt:** Total checkouts\n",
    "\n",
    "##### Practice Prep\n",
    "The cells below imports basic packages as well as the bike-sharing dataset. The original dataset is loaded as Pandas DataFrame, and is named as 'daily'. Run and read through the cells below to obtain a general understanding of the data."
   ]
  },
  {
   "cell_type": "code",
   "execution_count": 2,
   "metadata": {},
   "outputs": [],
   "source": [
    "%matplotlib inline \n",
    "import numpy as np\n",
    "import pandas as pd\n",
    "import sklearn\n",
    "import matplotlib.pyplot as plt\n",
    "import seaborn as sns\n",
    "\n",
    "import warnings\n",
    "warnings.filterwarnings('ignore')"
   ]
  },
  {
   "cell_type": "code",
   "execution_count": 3,
   "metadata": {},
   "outputs": [
    {
     "data": {
      "text/html": [
       "<div>\n",
       "<style scoped>\n",
       "    .dataframe tbody tr th:only-of-type {\n",
       "        vertical-align: middle;\n",
       "    }\n",
       "\n",
       "    .dataframe tbody tr th {\n",
       "        vertical-align: top;\n",
       "    }\n",
       "\n",
       "    .dataframe thead th {\n",
       "        text-align: right;\n",
       "    }\n",
       "</style>\n",
       "<table border=\"1\" class=\"dataframe\">\n",
       "  <thead>\n",
       "    <tr style=\"text-align: right;\">\n",
       "      <th></th>\n",
       "      <th>day</th>\n",
       "      <th>season</th>\n",
       "      <th>weekday</th>\n",
       "      <th>workingday</th>\n",
       "      <th>weathersit</th>\n",
       "      <th>temp</th>\n",
       "      <th>windspeed</th>\n",
       "      <th>casual</th>\n",
       "      <th>registered</th>\n",
       "      <th>cnt</th>\n",
       "    </tr>\n",
       "  </thead>\n",
       "  <tbody>\n",
       "    <tr>\n",
       "      <th>0</th>\n",
       "      <td>1</td>\n",
       "      <td>1</td>\n",
       "      <td>6</td>\n",
       "      <td>0</td>\n",
       "      <td>2</td>\n",
       "      <td>0.344167</td>\n",
       "      <td>0.160446</td>\n",
       "      <td>331</td>\n",
       "      <td>654</td>\n",
       "      <td>985</td>\n",
       "    </tr>\n",
       "    <tr>\n",
       "      <th>1</th>\n",
       "      <td>2</td>\n",
       "      <td>1</td>\n",
       "      <td>0</td>\n",
       "      <td>0</td>\n",
       "      <td>2</td>\n",
       "      <td>0.363478</td>\n",
       "      <td>0.248539</td>\n",
       "      <td>131</td>\n",
       "      <td>670</td>\n",
       "      <td>801</td>\n",
       "    </tr>\n",
       "    <tr>\n",
       "      <th>2</th>\n",
       "      <td>3</td>\n",
       "      <td>1</td>\n",
       "      <td>1</td>\n",
       "      <td>1</td>\n",
       "      <td>1</td>\n",
       "      <td>0.196364</td>\n",
       "      <td>0.248309</td>\n",
       "      <td>120</td>\n",
       "      <td>1229</td>\n",
       "      <td>1349</td>\n",
       "    </tr>\n",
       "    <tr>\n",
       "      <th>3</th>\n",
       "      <td>4</td>\n",
       "      <td>1</td>\n",
       "      <td>2</td>\n",
       "      <td>1</td>\n",
       "      <td>1</td>\n",
       "      <td>0.200000</td>\n",
       "      <td>0.160296</td>\n",
       "      <td>108</td>\n",
       "      <td>1454</td>\n",
       "      <td>1562</td>\n",
       "    </tr>\n",
       "    <tr>\n",
       "      <th>4</th>\n",
       "      <td>5</td>\n",
       "      <td>1</td>\n",
       "      <td>3</td>\n",
       "      <td>1</td>\n",
       "      <td>1</td>\n",
       "      <td>0.226957</td>\n",
       "      <td>0.186900</td>\n",
       "      <td>82</td>\n",
       "      <td>1518</td>\n",
       "      <td>1600</td>\n",
       "    </tr>\n",
       "  </tbody>\n",
       "</table>\n",
       "</div>"
      ],
      "text/plain": [
       "   day  season  weekday  workingday  weathersit      temp  windspeed  casual  \\\n",
       "0    1       1        6           0           2  0.344167   0.160446     331   \n",
       "1    2       1        0           0           2  0.363478   0.248539     131   \n",
       "2    3       1        1           1           1  0.196364   0.248309     120   \n",
       "3    4       1        2           1           1  0.200000   0.160296     108   \n",
       "4    5       1        3           1           1  0.226957   0.186900      82   \n",
       "\n",
       "   registered   cnt  \n",
       "0         654   985  \n",
       "1         670   801  \n",
       "2        1229  1349  \n",
       "3        1454  1562  \n",
       "4        1518  1600  "
      ]
     },
     "execution_count": 3,
     "metadata": {},
     "output_type": "execute_result"
    }
   ],
   "source": [
    "import pandas as pd\n",
    "daily = pd.read_csv(\"day.csv\")\n",
    "daily.head()"
   ]
  },
  {
   "cell_type": "code",
   "execution_count": 4,
   "metadata": {},
   "outputs": [
    {
     "name": "stdout",
     "output_type": "stream",
     "text": [
      "Index(['day', 'season', 'weekday', 'workingday', 'weathersit', 'temp',\n",
      "       'windspeed', 'casual', 'registered', 'cnt'],\n",
      "      dtype='object')\n"
     ]
    }
   ],
   "source": [
    "print(daily.columns)"
   ]
  },
  {
   "cell_type": "markdown",
   "metadata": {},
   "source": [
    "**Question 1 : Data Exploration.** (12 points)\n",
    "\n",
    "- Plot the daily count of bikes that were checked out by **casual/non-registered** users (y) against the temperature (x). \n",
    "- Set the color based on whether it is a working day. Set transparency to 0.7. \n",
    "- Include appropriate labels for x-axis and y-axis, and colorbar. *Hint: use plt.colorbar(ticks = [0,1]) to change the ticks.*\n",
    "- What insights can you get?"
   ]
  },
  {
   "cell_type": "code",
   "execution_count": 5,
   "metadata": {},
   "outputs": [
    {
     "data": {
      "image/png": "[encoded data removed]",
      "text/plain": [
       "<Figure size 432x288 with 2 Axes>"
      ]
     },
     "metadata": {
      "needs_background": "light"
     },
     "output_type": "display_data"
    }
   ],
   "source": [
    "## YOUR CODE HERE ##\n",
    "\n",
    "import matplotlib.cm as cm\n",
    "a= daily['temp']\n",
    "b= daily['casual']\n",
    "category = daily['workingday']\n",
    "plt.scatter(a, b, c= category, alpha = 0.7)\n",
    "plt.ylabel(\"Count of checkouts by casual/non-registered users\")\n",
    "plt.xlabel(\"Normalized temperature in Celcius\")\n",
    "#plt.colorbar(sm)\n",
    "plt.colorbar(ticks = [0,1])\n",
    "#plt.set_label()\n",
    "plt.show()"
   ]
  },
  {
   "cell_type": "code",
   "execution_count": 6,
   "metadata": {},
   "outputs": [],
   "source": [
    "## YOUR DISCUSSION HERE ##\n",
    "# Scatter plot is used since we want to plot 2 variables. Heatmap can also be used but it is generally used for multiple variables.\n",
    "# For non-working days, as the temperature increases, count of checkouts by casual/non-registered users highly increases \n",
    "# in comparison to working days.\n",
    "# For working days, as the temperature increases, count of checkouts by casual/non-registered users increases linearly but the \n",
    "# increase is low in comparison to non-working days"
   ]
  },
  {
   "cell_type": "markdown",
   "metadata": {},
   "source": [
    "## Regression\n",
    "\n",
    "In this section, you are supposed to complete TWO regression models, some in conjunction with grid search and CV. First, run the cells below to complete the data splitting step. "
   ]
  },
  {
   "cell_type": "code",
   "execution_count": 7,
   "metadata": {},
   "outputs": [],
   "source": [
    "# Define X and y\n",
    "var = ['temp','windspeed','season', 'weekday', 'workingday', 'weathersit']\n",
    "X = daily[var]\n",
    "y = daily['cnt']"
   ]
  },
  {
   "cell_type": "code",
   "execution_count": 8,
   "metadata": {},
   "outputs": [],
   "source": [
    "# Data splitting for training and test set\n",
    "from sklearn.model_selection import train_test_split\n",
    "X_train, X_test, y_train, y_test = train_test_split(X, y, random_state=42)"
   ]
  },
  {
   "cell_type": "markdown",
   "metadata": {},
   "source": [
    "**Question 2: Linear Regression**\n",
    "\n",
    "- Train a linear regression model. Report and specify clearly the estimated coefficients and intercept.   \n",
    "  *Hint: use print(\"The intercept is:\", INTERCEPT_RSLT) to specify the result reported is the intercept.*\n",
    "- Obtain the predicted y for (1) test set and (2) training set. Store the results properly.\n",
    "- Calculate and use print function to report (1) the MSE for test set and (2) the MSE for training set.\n",
    "- We have obtained two MSE values. Which one should we report as the unbiased performance measure?\n",
    "- Can you propose other potential measures for the model's performance? \n",
    "  *(Discussion only. No need to obtain the measure's value)*"
   ]
  },
  {
   "cell_type": "code",
   "execution_count": 9,
   "metadata": {},
   "outputs": [
    {
     "name": "stdout",
     "output_type": "stream",
     "text": [
      "The coefficients are [ 5245.48567189 -1995.73565252   412.66281476    76.77426589\n",
      "   132.20982981  -800.60943777]\n",
      "The intercept is 2093.4087280168706\n"
     ]
    }
   ],
   "source": [
    "# Train the model and report coefficients\n",
    "# YOUR CODE HERE \n",
    "from sklearn.linear_model import LinearRegression\n",
    "lr = LinearRegression()\n",
    "lr.fit(X_train, y_train)\n",
    "print(\"The coefficients are\",lr.coef_)\n",
    "print(\"The intercept is\", lr.intercept_) "
   ]
  },
  {
   "cell_type": "code",
   "execution_count": 10,
   "metadata": {},
   "outputs": [
    {
     "name": "stdout",
     "output_type": "stream",
     "text": [
      "(183,)\n"
     ]
    }
   ],
   "source": [
    "## Predict y for training and test set\n",
    "# YOUR CODE HERE\n",
    "y_pred_test = lr.predict(X_test)\n",
    "y_pred_train = lr.predict(X_train)\n",
    "print(y_pred_test.shape)"
   ]
  },
  {
   "cell_type": "code",
   "execution_count": 11,
   "metadata": {},
   "outputs": [
    {
     "name": "stdout",
     "output_type": "stream",
     "text": [
      "Mean squared error for test data is 1816812.3742340659\n",
      "Mean squared error for train data is 1852849.4373569072\n"
     ]
    }
   ],
   "source": [
    "## Calculate and report the MSE for training and test\n",
    "# YOUR CODE HERE\n",
    "#MSE of test data\n",
    "e1 = y_test - y_pred_test\n",
    "## Square value\n",
    "e1**2\n",
    "## sum elements up - use np.sum()\n",
    "SSR_test = np.sum(e1**2)\n",
    "MSE_test = SSR_test/y_test.shape[0]\n",
    "MSE_test\n",
    "print(\"Mean squared error for test data is\", MSE_test)\n",
    "\n",
    "##MSE of train data\n",
    "e2 = y_train - y_pred_train\n",
    "##square value\n",
    "(e2**2)\n",
    "##\n",
    "SSR_train = np.sum(e2**2)\n",
    "MSE_train = SSR_train/y_train.shape[0]\n",
    "MSE_train\n",
    "print(\"Mean squared error for train data is\",MSE_train)\n"
   ]
  },
  {
   "cell_type": "code",
   "execution_count": 12,
   "metadata": {},
   "outputs": [],
   "source": [
    "## Discussion: Which is the unbiased performance measure? Can you propose other performance measures?\n",
    "\n",
    "## Answer: The Unbiased performance measure would be MSE value of test data since we didn't use test data in training the model.\n",
    "## Training data is used to train the model and hence cannot be used in measuring its performance.\n",
    "## We can also use Mean Absolute Error and R squared value of Test data to evaluate the performance."
   ]
  },
  {
   "cell_type": "markdown",
   "metadata": {},
   "source": [
    "**Question 3: Polynomial Regression**\n",
    "\n",
    "- Train a Polynomial regression model with grid search and 10-fold cross-validation. Let the grid of the hyperparameter be: [1,2,3]. Leave other parameters as default.\n",
    "- Report the hyperparameter chosen (i.e., the degree selected) and the mean of validation score of the chosen model.\n",
    "- Obtain the chosen model's unbiased performance (based on default measure, R-squared)."
   ]
  },
  {
   "cell_type": "code",
   "execution_count": 13,
   "metadata": {},
   "outputs": [
    {
     "data": {
      "text/plain": [
       "GridSearchCV(cv=10,\n",
       "             estimator=Pipeline(steps=[('polynomialfeatures',\n",
       "                                        PolynomialFeatures()),\n",
       "                                       ('linearregression',\n",
       "                                        LinearRegression())]),\n",
       "             param_grid={'polynomialfeatures__degree': range(1, 4)})"
      ]
     },
     "execution_count": 13,
     "metadata": {},
     "output_type": "execute_result"
    }
   ],
   "source": [
    "# Train the model, and report the results\n",
    "# YOUR CODE HERE\n",
    "from sklearn.preprocessing import PolynomialFeatures\n",
    "from sklearn.model_selection import GridSearchCV\n",
    "from sklearn.pipeline import make_pipeline\n",
    "from sklearn.linear_model import LinearRegression\n",
    "\n",
    "## Generate a new feature matrix consisting of all polynomial combinations of the features with \n",
    "## degree less than or equal to the specified degree\n",
    "\n",
    "param_poly = {'polynomialfeatures__degree' :  range(1,4)  }  # python dictinonary \n",
    "poly_pipe = PolynomialFeatures()\n",
    "lr_pipe = LinearRegression()\n",
    "poly_auto = make_pipeline(poly_pipe, lr_pipe)\n",
    "\n",
    "\n",
    "# GridSearchCV(Model, grids, CV = 10, scoring=R square value)\n",
    "poly_grid = GridSearchCV(poly_auto, param_poly, cv = 10)\n",
    "poly_grid.fit(X_train, y_train)"
   ]
  },
  {
   "cell_type": "code",
   "execution_count": 14,
   "metadata": {},
   "outputs": [],
   "source": [
    "y_pred_test_poly = poly_grid.predict(X_test)"
   ]
  },
  {
   "cell_type": "code",
   "execution_count": 15,
   "metadata": {},
   "outputs": [
    {
     "name": "stdout",
     "output_type": "stream",
     "text": [
      "Degree selected is {'polynomialfeatures__degree': 1}\n"
     ]
    }
   ],
   "source": [
    "degree_selected = poly_grid.best_params_\n",
    "print(\"Degree selected is\", degree_selected)"
   ]
  },
  {
   "cell_type": "code",
   "execution_count": 16,
   "metadata": {},
   "outputs": [
    {
     "name": "stdout",
     "output_type": "stream",
     "text": [
      "{'mean_fit_time': array([0.00230043, 0.00246725, 0.00155108]), 'std_fit_time': array([0.00045846, 0.00455745, 0.00465324]), 'mean_score_time': array([0.00090024, 0.0004003 , 0.00468915]), 'std_score_time': array([0.00030008, 0.00066383, 0.00716279]), 'param_polynomialfeatures__degree': masked_array(data=[1, 2, 3],\n",
      "             mask=[False, False, False],\n",
      "       fill_value='?',\n",
      "            dtype=object), 'params': [{'polynomialfeatures__degree': 1}, {'polynomialfeatures__degree': 2}, {'polynomialfeatures__degree': 3}], 'split0_test_score': array([0.32614579, 0.49119184, 0.44880516]), 'split1_test_score': array([0.45295325, 0.62418979, 0.63896038]), 'split2_test_score': array([0.49771732, 0.37551737, 0.36366579]), 'split3_test_score': array([0.58621828, 0.32814127, 0.50914895]), 'split4_test_score': array([ 0.5542634 ,  0.472349  , -1.38220311]), 'split5_test_score': array([0.55797455, 0.57723853, 0.58565067]), 'split6_test_score': array([ 0.17226052, -0.72508916, -3.52470995]), 'split7_test_score': array([ 0.46954239, -0.42668044, -0.99635452]), 'split8_test_score': array([0.50480413, 0.57209329, 0.00820932]), 'split9_test_score': array([ 0.49329945, -0.09498221,  0.38551594]), 'mean_test_score': array([ 0.46151791,  0.21939693, -0.29633114]), 'std_test_score': array([0.11822992, 0.44706408, 1.26259753]), 'rank_test_score': array([1, 2, 3])}\n"
     ]
    }
   ],
   "source": [
    "CV_results = poly_grid.cv_results_\n",
    "print(CV_results)## 0.46151791 is the mean validation score for polynomial degree 1"
   ]
  },
  {
   "cell_type": "code",
   "execution_count": 17,
   "metadata": {},
   "outputs": [
    {
     "name": "stdout",
     "output_type": "stream",
     "text": [
      "The mean of validation score of the chosen model is 0.46151790928788144\n"
     ]
    }
   ],
   "source": [
    "Val_score = poly_grid.best_score_ \n",
    "print(\"The mean of validation score of the chosen model is\", Val_score)"
   ]
  },
  {
   "cell_type": "code",
   "execution_count": 22,
   "metadata": {},
   "outputs": [
    {
     "name": "stdout",
     "output_type": "stream",
     "text": [
      "R squared value is 0.5285823895780064\n"
     ]
    }
   ],
   "source": [
    "Rsquared_value = poly_grid.score(X_test, y_test)  # Here I used best_score_ in assignment submission- one needs to use score for \n",
    "## choosen model performance, best_score gives the mean validation score of the best model.\n",
    "print(\"R squared value is\", Rsquared_value) \n",
    "## This is the unbiased performance, MSE or MAE can also be used which are added below"
   ]
  },
  {
   "cell_type": "code",
   "execution_count": 19,
   "metadata": {},
   "outputs": [
    {
     "name": "stdout",
     "output_type": "stream",
     "text": [
      "Mean squared error using grid search is 1816812.3742340666\n"
     ]
    }
   ],
   "source": [
    "e = y_test - y_pred_test_poly\n",
    "MSE_test = np.sum(e**2)/y_test.shape[0]\n",
    "print(\"Mean squared error using grid search is\",MSE_test)\n",
    "## Note: This value is same as that of linear regression since the choosen degree is 1"
   ]
  },
  {
   "cell_type": "code",
   "execution_count": 20,
   "metadata": {},
   "outputs": [
    {
     "name": "stdout",
     "output_type": "stream",
     "text": [
      "Mean absolute error using grid search is 1152.443594591139\n"
     ]
    }
   ],
   "source": [
    "e = y_test - y_pred_test_poly\n",
    "# absolute value\n",
    "np.abs(e)\n",
    "## sum elements up - use np.sum()\n",
    "Sum_AE = np.sum(np.abs(e))\n",
    "MAE_test = Sum_AE/y_test.shape[0]\n",
    "print(\"Mean absolute error using grid search is\",MAE_test)"
   ]
  },
  {
   "cell_type": "code",
   "execution_count": 21,
   "metadata": {},
   "outputs": [
    {
     "data": {
      "text/plain": [
       "Pipeline(steps=[('polynomialfeatures', PolynomialFeatures(degree=1)),\n",
       "                ('linearregression', LinearRegression())])"
      ]
     },
     "execution_count": 21,
     "metadata": {},
     "output_type": "execute_result"
    }
   ],
   "source": [
    "poly_grid.best_estimator_ "
   ]
  },
  {
   "cell_type": "code",
   "execution_count": null,
   "metadata": {},
   "outputs": [],
   "source": []
  }
 ],
 "metadata": {
  "kernelspec": {
   "display_name": "Python 3 (ipykernel)",
   "language": "python",
   "name": "python3"
  },
  "language_info": {
   "codemirror_mode": {
    "name": "ipython",
    "version": 3
   },
   "file_extension": ".py",
   "mimetype": "text/x-python",
   "name": "python",
   "nbconvert_exporter": "python",
   "pygments_lexer": "ipython3",
   "version": "3.9.7"
  }
 },
 "nbformat": 4,
 "nbformat_minor": 2
}
